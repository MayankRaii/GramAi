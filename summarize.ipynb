{
 "cells": [
  {
   "cell_type": "code",
   "execution_count": null,
   "metadata": {},
   "outputs": [],
   "source": [
    "from transformers import pipeline\n",
    "summarizer = pipeline(\"summarization\")"
   ]
  },
  {
   "cell_type": "code",
   "execution_count": null,
   "metadata": {},
   "outputs": [],
   "source": [
    "def summarize(text_data):\n",
    "    summarizer = pipeline(\"summarization\", model=\"sshleifer/distilbart-cnn-12-6\", revision=\"a4f8f3e\")\n",
    "    return summarizer\n",
    "    print((summarizer(text_data, max_length=130, min_length=30, do_sample=False)[0]['summary_text']))\n",
    "    # return (summarizer(text, max_length=130, min_length=30, do_sample=False)[0]['summary_text'])\n"
   ]
  },
  {
   "cell_type": "code",
   "execution_count": null,
   "metadata": {},
   "outputs": [],
   "source": [
    "import speech_recognition as sr\n",
    "import pyttsx3"
   ]
  },
  {
   "cell_type": "code",
   "execution_count": null,
   "metadata": {},
   "outputs": [],
   "source": [
    "r = sr.Recognizer()\n",
    "\n",
    "def SpeakText(command):\n",
    "    engine = pyttsx3.init()\n",
    "    engine.say(command)\n",
    "    engine.runAndWait()\n",
    "    \n",
    "SpeakText(\"Hello world\")\n",
    "    "
   ]
  },
  {
   "cell_type": "code",
   "execution_count": null,
   "metadata": {},
   "outputs": [],
   "source": [
    "with sr.Microphone() as source2:\n",
    "    r.adjust_for_ambient_noise(source=source2,duration=2)\n",
    "    print(\"Caliberated , now speak.....\")\n",
    "    \n",
    "    audio2 = r.listen(source2)\n",
    "    print(audio2)\n",
    "    MyText = r.recognize_google(audio2)\n",
    "    MyText = MyText.lower()\n",
    "    print(MyText)\n",
    "    SpeakText(MyText)"
   ]
  }
 ],
 "metadata": {
  "kernelspec": {
   "display_name": "base",
   "language": "python",
   "name": "python3"
  },
  "language_info": {
   "name": "python",
   "version": "3.9.13"
  }
 },
 "nbformat": 4,
 "nbformat_minor": 2
}
